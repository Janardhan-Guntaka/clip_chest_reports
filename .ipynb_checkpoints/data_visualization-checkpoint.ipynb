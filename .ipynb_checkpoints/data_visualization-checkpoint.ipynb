{
 "cells": [
  {
   "cell_type": "code",
   "execution_count": null,
   "metadata": {
    "vscode": {
     "languageId": "plaintext"
    }
   },
   "outputs": [],
   "source": [
    "import matplotlib.pyplot as plt\n",
    "import random\n",
    "import cv2\n",
    "\n",
    "# Load some images\n",
    "sample_images = random.sample(os.listdir(\"Indiana_Dataset/images\"), 5)\n",
    "\n",
    "# Plot them\n",
    "fig, axes = plt.subplots(1, 5, figsize=(15, 5))\n",
    "for i, img_file in enumerate(sample_images):\n",
    "    img_path = os.path.join(\"Indiana_Dataset/images\", img_file)\n",
    "    img = cv2.imread(img_path, cv2.IMREAD_GRAYSCALE)\n",
    "    axes[i].imshow(img, cmap=\"gray\")\n",
    "    axes[i].axis(\"off\")\n",
    "    axes[i].set_title(img_file)\n",
    "plt.show()\n"
   ]
  }
 ],
 "metadata": {
  "language_info": {
   "name": "python"
  }
 },
 "nbformat": 4,
 "nbformat_minor": 2
}
