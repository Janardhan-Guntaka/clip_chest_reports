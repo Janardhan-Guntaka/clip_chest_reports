{
 "cells": [
  {
   "cell_type": "code",
   "execution_count": 2,
   "id": "019a9057-0ce6-49f3-b3f8-e0b52db71014",
   "metadata": {},
   "outputs": [],
   "source": [
    "import os\n",
    "from torch.utils.data import Dataset\n",
    "from PIL import Image\n",
    "import clip\n",
    "\n",
    "class CLIPChestXrayDataset(Dataset):\n",
    "    def __init__(self, image_dir, report_dir, preprocess, tokenizer, max_tokens=77):\n",
    "        self.image_dir = image_dir\n",
    "        self.report_dir = report_dir\n",
    "        self.preprocess = preprocess\n",
    "        self.tokenizer = tokenizer\n",
    "        self.max_tokens = max_tokens\n",
    "\n",
    "        # Match filenames\n",
    "        self.image_files = sorted(os.listdir(image_dir))\n",
    "        self.report_files = sorted(os.listdir(report_dir))\n",
    "\n",
    "        # Extract common IDs (e.g., \"CXR123_IM-xxxx-xxxx\" from \"123.xml\")\n",
    "        self.pairs = []\n",
    "        for img_file in self.image_files:\n",
    "            base_id = img_file.split(\"_\")[0].replace(\"CXR\", \"\")\n",
    "            report_file = base_id + \".xml\"\n",
    "            if os.path.exists(os.path.join(report_dir, report_file)):\n",
    "                self.pairs.append((img_file, report_file))\n",
    "\n",
    "    def __len__(self):\n",
    "        return len(self.pairs)\n",
    "\n",
    "    def __getitem__(self, idx):\n",
    "        img_file, report_file = self.pairs[idx]\n",
    "\n",
    "        # Load image\n",
    "        image_path = os.path.join(self.image_dir, img_file)\n",
    "        image = self.preprocess(Image.open(image_path).convert(\"RGB\"))\n",
    "\n",
    "        # Load report text\n",
    "        report_path = os.path.join(self.report_dir, report_file)\n",
    "        text = extract_report_text(report_path)\n",
    "\n",
    "        # Truncate or clean if needed\n",
    "        tokenized = self.tokenizer([text], truncate=True)[0]\n",
    "\n",
    "        return image, tokenized\n",
    "\n",
    "# You can use this external function from before\n",
    "def extract_report_text(xml_file):\n",
    "    import xml.etree.ElementTree as ET\n",
    "    tree = ET.parse(xml_file)\n",
    "    root = tree.getroot()\n",
    "\n",
    "    findings, impression = \"\", \"\"\n",
    "    for child in root.findall(\".//AbstractText\"):\n",
    "        label = child.get(\"Label\", \"\").lower()\n",
    "        if \"impression\" in label and child.text:\n",
    "            impression = child.text.strip()\n",
    "        elif \"findings\" in label and child.text:\n",
    "            findings = child.text.strip()\n",
    "\n",
    "    # Clean 'XXXX', prioritize impression\n",
    "    full_text = f\"{impression}. {findings}\"\n",
    "    cleaned = \" \".join(word for word in full_text.split() if \"XXXX\" not in word)\n",
    "    return cleaned[:512]  # Truncate long reports for safety\n"
   ]
  },
  {
   "cell_type": "code",
   "execution_count": 3,
   "id": "b5468ec6-d750-4419-aee5-5b79ec298b68",
   "metadata": {},
   "outputs": [],
   "source": [
    "import torch\n",
    "import clip\n",
    "from torch.utils.data import DataLoader\n",
    "\n",
    "device = \"cuda\" if torch.cuda.is_available() else \"cpu\"\n",
    "model, preprocess = clip.load(\"ViT-B/32\", device=device)\n",
    "\n",
    "train_dataset = CLIPChestXrayDataset(\n",
    "    image_dir=\"C:\\\\Users\\\\2003j\\\\Downloads\\\\into_to_ml\\\\chest_reports\\\\split_data\\\\train\\\\images\",\n",
    "    report_dir=\"C:\\\\Users\\\\2003j\\\\Downloads\\\\into_to_ml\\\\chest_reports\\\\split_data\\\\train\\\\reports\",\n",
    "    preprocess=preprocess,\n",
    "    tokenizer=clip.tokenize\n",
    ")\n",
    "\n",
    "train_loader = DataLoader(train_dataset, batch_size=16, shuffle=True)"
   ]
  },
  {
   "cell_type": "code",
   "execution_count": 5,
   "id": "72a5a98e-5b2a-4a0e-9374-3fa7c72b5d6d",
   "metadata": {},
   "outputs": [],
   "source": [
    "import torch.nn.functional as F\n",
    "from tqdm import tqdm\n",
    "\n",
    "def train_clip_model(train_loader, model, device, epochs=5, lr=1e-5):\n",
    "    model.train()\n",
    "    model = model.to(device)\n",
    "    optimizer = torch.optim.AdamW(model.parameters(), lr=lr)\n",
    "\n",
    "    for epoch in range(epochs):\n",
    "        total_loss = 0\n",
    "        progress = tqdm(train_loader, desc=f\"Epoch {epoch+1}/{epochs}\")\n",
    "        \n",
    "        for batch in progress:\n",
    "            images, texts = batch\n",
    "            images = images.to(device)\n",
    "            texts = texts.to(device)\n",
    "\n",
    "            optimizer.zero_grad()\n",
    "\n",
    "            # Get CLIP features\n",
    "            image_features = model.encode_image(images)\n",
    "            text_features = model.encode_text(texts)\n",
    "\n",
    "            # Normalize features\n",
    "            image_features = image_features / image_features.norm(dim=-1, keepdim=True)\n",
    "            text_features = text_features / text_features.norm(dim=-1, keepdim=True)\n",
    "\n",
    "            # Compute cosine similarity\n",
    "            logits_per_image = image_features @ text_features.t()\n",
    "            logits_per_text = text_features @ image_features.t()\n",
    "\n",
    "            # Labels are just indices (like [0, 1, 2, ..., batch_size - 1])\n",
    "            labels = torch.arange(len(images)).to(device)\n",
    "\n",
    "            # Cross entropy loss (both directions)\n",
    "            loss_i = F.cross_entropy(logits_per_image, labels)\n",
    "            loss_t = F.cross_entropy(logits_per_text, labels)\n",
    "            loss = (loss_i + loss_t) / 2\n",
    "\n",
    "            loss.backward()\n",
    "            optimizer.step()\n",
    "\n",
    "            total_loss += loss.item()\n",
    "            progress.set_postfix(loss=loss.item())\n",
    "\n",
    "        print(f\"✅ Epoch {epoch+1} completed - Avg Loss: {total_loss / len(train_loader):.4f}\")\n",
    "\n",
    "    return model\n"
   ]
  },
  {
   "cell_type": "code",
   "execution_count": 6,
   "id": "7a137e92-d20c-4907-9f2b-853aa8919826",
   "metadata": {},
   "outputs": [
    {
     "name": "stderr",
     "output_type": "stream",
     "text": [
      "Epoch 1/5: 100%|████████████████████████████████████████████████████████| 371/371 [1:42:55<00:00, 16.65s/it, loss=2.63]\n"
     ]
    },
    {
     "name": "stdout",
     "output_type": "stream",
     "text": [
      "✅ Epoch 1 completed - Avg Loss: 2.7438\n"
     ]
    },
    {
     "name": "stderr",
     "output_type": "stream",
     "text": [
      "Epoch 2/5: 100%|█████████████████████████████████████████████████████████| 371/371 [8:01:16<00:00, 77.84s/it, loss=2.5]\n"
     ]
    },
    {
     "name": "stdout",
     "output_type": "stream",
     "text": [
      "✅ Epoch 2 completed - Avg Loss: 2.6657\n"
     ]
    },
    {
     "name": "stderr",
     "output_type": "stream",
     "text": [
      "Epoch 3/5: 100%|████████████████████████████████████████████████████████| 371/371 [3:19:01<00:00, 32.19s/it, loss=2.32]\n"
     ]
    },
    {
     "name": "stdout",
     "output_type": "stream",
     "text": [
      "✅ Epoch 3 completed - Avg Loss: 2.5855\n"
     ]
    },
    {
     "name": "stderr",
     "output_type": "stream",
     "text": [
      "Epoch 4/5: 100%|████████████████████████████████████████████████████████| 371/371 [9:38:25<00:00, 93.55s/it, loss=2.56]\n"
     ]
    },
    {
     "name": "stdout",
     "output_type": "stream",
     "text": [
      "✅ Epoch 4 completed - Avg Loss: 2.5013\n"
     ]
    },
    {
     "name": "stderr",
     "output_type": "stream",
     "text": [
      "Epoch 5/5: 100%|██████████████████████████████████████████████████████████| 371/371 [43:00<00:00,  6.96s/it, loss=2.18]"
     ]
    },
    {
     "name": "stdout",
     "output_type": "stream",
     "text": [
      "✅ Epoch 5 completed - Avg Loss: 2.4144\n"
     ]
    },
    {
     "name": "stderr",
     "output_type": "stream",
     "text": [
      "\n"
     ]
    }
   ],
   "source": [
    "fine_tuned_model = train_clip_model(train_loader, model, device=device)\n"
   ]
  },
  {
   "cell_type": "code",
   "execution_count": 11,
   "id": "bb7680f5-d462-41be-9cc7-bfbfad4e638a",
   "metadata": {},
   "outputs": [
    {
     "ename": "NameError",
     "evalue": "name 'CLIPChestXrayDataset' is not defined",
     "output_type": "error",
     "traceback": [
      "\u001b[1;31m---------------------------------------------------------------------------\u001b[0m",
      "\u001b[1;31mNameError\u001b[0m                                 Traceback (most recent call last)",
      "Cell \u001b[1;32mIn[11], line 2\u001b[0m\n\u001b[0;32m      1\u001b[0m \u001b[38;5;66;03m# Test Dataset Setup\u001b[39;00m\n\u001b[1;32m----> 2\u001b[0m test_dataset \u001b[38;5;241m=\u001b[39m \u001b[43mCLIPChestXrayDataset\u001b[49m(\n\u001b[0;32m      3\u001b[0m     image_dir\u001b[38;5;241m=\u001b[39m\u001b[38;5;124m\"\u001b[39m\u001b[38;5;124mC:\u001b[39m\u001b[38;5;130;01m\\\\\u001b[39;00m\u001b[38;5;124mUsers\u001b[39m\u001b[38;5;130;01m\\\\\u001b[39;00m\u001b[38;5;124m2003j\u001b[39m\u001b[38;5;130;01m\\\\\u001b[39;00m\u001b[38;5;124mDownloads\u001b[39m\u001b[38;5;130;01m\\\\\u001b[39;00m\u001b[38;5;124minto_to_ml\u001b[39m\u001b[38;5;130;01m\\\\\u001b[39;00m\u001b[38;5;124mchest_reports\u001b[39m\u001b[38;5;130;01m\\\\\u001b[39;00m\u001b[38;5;124msplit_data\u001b[39m\u001b[38;5;130;01m\\\\\u001b[39;00m\u001b[38;5;124mtest\u001b[39m\u001b[38;5;130;01m\\\\\u001b[39;00m\u001b[38;5;124mimages\u001b[39m\u001b[38;5;124m\"\u001b[39m,\n\u001b[0;32m      4\u001b[0m     report_dir\u001b[38;5;241m=\u001b[39m\u001b[38;5;124m\"\u001b[39m\u001b[38;5;124mC:\u001b[39m\u001b[38;5;130;01m\\\\\u001b[39;00m\u001b[38;5;124mUsers\u001b[39m\u001b[38;5;130;01m\\\\\u001b[39;00m\u001b[38;5;124m2003j\u001b[39m\u001b[38;5;130;01m\\\\\u001b[39;00m\u001b[38;5;124mDownloads\u001b[39m\u001b[38;5;130;01m\\\\\u001b[39;00m\u001b[38;5;124minto_to_ml\u001b[39m\u001b[38;5;130;01m\\\\\u001b[39;00m\u001b[38;5;124mchest_reports\u001b[39m\u001b[38;5;130;01m\\\\\u001b[39;00m\u001b[38;5;124msplit_data\u001b[39m\u001b[38;5;130;01m\\\\\u001b[39;00m\u001b[38;5;124mtest\u001b[39m\u001b[38;5;130;01m\\\\\u001b[39;00m\u001b[38;5;124mreports\u001b[39m\u001b[38;5;124m\"\u001b[39m,\n\u001b[0;32m      5\u001b[0m     preprocess\u001b[38;5;241m=\u001b[39mpreprocess,\n\u001b[0;32m      6\u001b[0m     tokenizer\u001b[38;5;241m=\u001b[39mclip\u001b[38;5;241m.\u001b[39mtokenize\n\u001b[0;32m      7\u001b[0m )\n\u001b[0;32m      9\u001b[0m \u001b[38;5;66;03m# Load all data into memory (small test set, so OK)\u001b[39;00m\n\u001b[0;32m     10\u001b[0m test_loader \u001b[38;5;241m=\u001b[39m DataLoader(test_dataset, batch_size\u001b[38;5;241m=\u001b[39m\u001b[38;5;241m1\u001b[39m, shuffle\u001b[38;5;241m=\u001b[39m\u001b[38;5;28;01mFalse\u001b[39;00m)\n",
      "\u001b[1;31mNameError\u001b[0m: name 'CLIPChestXrayDataset' is not defined"
     ]
    }
   ],
   "source": [
    "# Test Dataset Setup\n",
    "test_dataset = CLIPChestXrayDataset(\n",
    "    image_dir=\"C:\\\\Users\\\\2003j\\\\Downloads\\\\into_to_ml\\\\chest_reports\\\\split_data\\\\test\\\\images\",\n",
    "    report_dir=\"C:\\\\Users\\\\2003j\\\\Downloads\\\\into_to_ml\\\\chest_reports\\\\split_data\\\\test\\\\reports\",\n",
    "    preprocess=preprocess,\n",
    "    tokenizer=clip.tokenize\n",
    ")\n",
    "\n",
    "# Load all data into memory (small test set, so OK)\n",
    "test_loader = DataLoader(test_dataset, batch_size=1, shuffle=False)\n"
   ]
  },
  {
   "cell_type": "code",
   "execution_count": 10,
   "id": "189d585d-6336-45ba-bc52-f50bfb46e5f8",
   "metadata": {},
   "outputs": [],
   "source": [
    "import torch.nn.functional as F\n",
    "\n",
    "def evaluate_clip_model(model, test_loader, device):\n",
    "    model.eval()\n",
    "    top1_correct = 0\n",
    "    top3_correct = 0\n",
    "    total = 0\n",
    "\n",
    "    all_report_features = []\n",
    "\n",
    "    print(\"🔍 Encoding all reports...\")\n",
    "    # Step 1: Encode all reports in test set (once)\n",
    "    with torch.no_grad():\n",
    "        for _, tokenized_text in test_loader:\n",
    "            tokenized_text = tokenized_text.to(device)\n",
    "            text_features = model.encode_text(tokenized_text)\n",
    "            text_features = F.normalize(text_features, dim=-1)\n",
    "            all_report_features.append(text_features)\n",
    "\n",
    "    all_report_features = torch.cat(all_report_features, dim=0)  # Shape: (N, D)\n",
    "\n",
    "    print(\"🖼 Matching images with reports...\")\n",
    "    with torch.no_grad():\n",
    "        for idx, (image, tokenized_text) in enumerate(test_loader):\n",
    "            image = image.to(device)\n",
    "            image_features = model.encode_image(image)\n",
    "            image_features = F.normalize(image_features, dim=-1)\n",
    "\n",
    "            # Compute similarity with all report features\n",
    "            similarity = (image_features @ all_report_features.T).squeeze(0)\n",
    "\n",
    "            # Top-k matching indices\n",
    "            top_k = similarity.topk(3).indices\n",
    "\n",
    "            total += 1\n",
    "            if idx == top_k[0].item():\n",
    "                top1_correct += 1\n",
    "            if idx in top_k:\n",
    "                top3_correct += 1\n",
    "\n",
    "    print(f\"\\n📊 Total Samples: {total}\")\n",
    "    print(f\"🎯 Top-1 Accuracy: {top1_correct / total:.2f}\")\n",
    "    print(f\"🔁 Top-3 Accuracy: {top3_correct / total:.2f}\")\n"
   ]
  },
  {
   "cell_type": "code",
   "execution_count": 11,
   "id": "dae684ef-88d7-4548-afad-1527f8f5d3dd",
   "metadata": {},
   "outputs": [
    {
     "name": "stdout",
     "output_type": "stream",
     "text": [
      "🔍 Encoding all reports...\n",
      "🖼 Matching images with reports...\n",
      "\n",
      "📊 Total Samples: 743\n",
      "🎯 Top-1 Accuracy: 0.00\n",
      "🔁 Top-3 Accuracy: 0.01\n"
     ]
    }
   ],
   "source": [
    "evaluate_clip_model(fine_tuned_model, test_loader, device)\n"
   ]
  },
  {
   "cell_type": "code",
   "execution_count": 4,
   "id": "361a934d-f40e-4c6b-a320-60bf79eb9046",
   "metadata": {},
   "outputs": [],
   "source": [
    "import torch.nn.functional as F\n",
    "from PIL import Image\n",
    "import matplotlib.pyplot as plt\n",
    "\n",
    "def inspect_clip_predictions(model, test_loader, device, num_samples=5):\n",
    "    model.eval()\n",
    "\n",
    "    image_list = []\n",
    "    text_list = []\n",
    "\n",
    "    print(\"🔍 Encoding reports...\")\n",
    "    with torch.no_grad():\n",
    "        for image, tokenized in test_loader:\n",
    "            image_list.append(image.to(device))\n",
    "            text_list.append(tokenized.to(device))\n",
    "            if len(image_list) >= num_samples:\n",
    "                break\n",
    "\n",
    "        # Encode all sampled reports\n",
    "        all_text_features = torch.cat([\n",
    "            F.normalize(model.encode_text(text), dim=-1)\n",
    "            for text in text_list\n",
    "        ], dim=0)\n",
    "\n",
    "        # Encode all sampled images\n",
    "        all_image_features = torch.cat([\n",
    "            F.normalize(model.encode_image(img), dim=-1)\n",
    "            for img in image_list\n",
    "        ], dim=0)\n",
    "\n",
    "    print(\"🔎 Matching images with reports...\\n\")\n",
    "    for idx, image_feature in enumerate(all_image_features):\n",
    "        sim_scores = (image_feature @ all_text_features.T).squeeze(0)\n",
    "        top_indices = sim_scores.topk(3).indices.tolist()\n",
    "\n",
    "        # Load the original image\n",
    "        img_tensor = image_list[idx].cpu().squeeze().permute(1, 2, 0).numpy()\n",
    "        plt.imshow(img_tensor, cmap=\"gray\")\n",
    "        plt.title(f\"Test Image #{idx + 1}\")\n",
    "        plt.axis(\"off\")\n",
    "        plt.show()\n",
    "\n",
    "        print(f\"📷 Image #{idx+1}\")\n",
    "        print(f\"✅ Ground Truth Report:\\n{test_loader.dataset[idx][1][:200]}...\\n\")\n",
    "        print(\"🔮 Top Predictions:\")\n",
    "        for rank, i in enumerate(top_indices):\n",
    "            pred_text = test_loader.dataset[i][1]\n",
    "            print(f\"  🔹 Top-{rank+1}: {pred_text[:200]}...\\n\")\n",
    "        print(\"-\" * 80)\n"
   ]
  },
  {
   "cell_type": "code",
   "execution_count": 10,
   "id": "e8871af4-0699-4da6-83eb-2a77d92a0280",
   "metadata": {},
   "outputs": [
    {
     "ename": "NameError",
     "evalue": "name 'fine_tuned_model' is not defined",
     "output_type": "error",
     "traceback": [
      "\u001b[1;31m---------------------------------------------------------------------------\u001b[0m",
      "\u001b[1;31mNameError\u001b[0m                                 Traceback (most recent call last)",
      "Cell \u001b[1;32mIn[10], line 1\u001b[0m\n\u001b[1;32m----> 1\u001b[0m inspect_clip_predictions(\u001b[43mfine_tuned_model\u001b[49m, test_loader, device, num_samples\u001b[38;5;241m=\u001b[39m\u001b[38;5;241m5\u001b[39m)\n",
      "\u001b[1;31mNameError\u001b[0m: name 'fine_tuned_model' is not defined"
     ]
    }
   ],
   "source": [
    "inspect_clip_predictions(fine_tuned_model, test_loader, device, num_samples=5)\n"
   ]
  },
  {
   "cell_type": "code",
   "execution_count": null,
   "id": "099c69c2-bccb-4bde-a4db-16fb4546e9e4",
   "metadata": {},
   "outputs": [],
   "source": []
  }
 ],
 "metadata": {
  "kernelspec": {
   "display_name": "Python 3 (ipykernel)",
   "language": "python",
   "name": "python3"
  },
  "language_info": {
   "codemirror_mode": {
    "name": "ipython",
    "version": 3
   },
   "file_extension": ".py",
   "mimetype": "text/x-python",
   "name": "python",
   "nbconvert_exporter": "python",
   "pygments_lexer": "ipython3",
   "version": "3.8.20"
  }
 },
 "nbformat": 4,
 "nbformat_minor": 5
}
